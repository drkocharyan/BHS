{
  "cells": [
    {
      "cell_type": "markdown",
      "source": [
        "# Привет уважаемый соискатель!\n",
        " Тебе предстоит пройти пару простых заданий по глубокому обучению. Это нормально не всегда понимать сразу как\n",
        " сделать ту или иную часть, видь у тебя есть возможность разобраться во всём самому! А этот навык куда ценнее\n",
        " знаний.\n",
        " Отметим сразу, что весь код написанный нами, есть лишь один из возможных путей решения задачи и ты не обязан ему\n",
        " следовать. Возможно, ты решишь использовать другие, более удобные, решения. Но как и в случае использования\n",
        " наших подсказок, так и без них, мы рекомендуем понимать, что ты пишешь и зачем. Мы будем спрашивать на собесе!\n",
        " Но ты не пугайся) Лучше разберись что и как."
      ],
      "metadata": {
        "collapsed": false,
        "pycharm": {
          "name": "#%% md\n"
        },
        "id": "ybhDotwumePB"
      }
    },
    {
      "cell_type": "code",
      "execution_count": 12,
      "metadata": {
        "collapsed": true,
        "pycharm": {
          "name": "#%%\n"
        },
        "id": "WdqMgdjsmePI"
      },
      "outputs": [],
      "source": [
        "import pandas as pd\n",
        "import torch\n",
        "from torch.utils.data import Dataset\n",
        "import torch.nn as nn\n",
        "from tqdm import tqdm\n",
        "\n",
        "\n",
        "import tensorflow as tf\n",
        "from tensorflow import keras\n",
        "from tensorflow.keras.models import Sequential\n",
        "from tensorflow.keras.layers import Dense\n",
        "from tensorflow.keras import utils"
      ]
    },
    {
      "cell_type": "markdown",
      "source": [
        "# Задания и оценивание\n",
        "В тестировании присутствует 3 части:\n",
        "- Составление датаеста\n",
        "- Конструкция архитектуры нейросети\n",
        "- Обучение и аналитика\n",
        "\n",
        "Каждая из них представляет собой важный этап работы Ml-щика нашей команды, поэтому постарайся сделать их все.\n",
        "Все они приносят равное количество баллов. В каждой части есть задание со звёздочкой, его делать не обязательно -\n",
        " но если ты всё-таки его сделаешь, то это поможет нам оценить твои компетенции.\n",
        "\n",
        "\n",
        "Скажем пару слов о данных. Признаки представляют из себя из себя 11 непрерывных переменных, таргет - целочисленную оценку от 1 до 10. Подумай, что это за тип задачи."
      ],
      "metadata": {
        "collapsed": false,
        "pycharm": {
          "name": "#%% md\n"
        },
        "id": "s-smwmVamePM"
      }
    },
    {
      "cell_type": "code",
      "execution_count": 5,
      "outputs": [],
      "source": [
        "def seed_everything(seed):\n",
        "    torch.manual_seed(seed)\n",
        "    torch.cuda.manual_seed(seed)\n",
        "\n",
        "seed_everything(123456)"
      ],
      "metadata": {
        "pycharm": {
          "name": "#%%\n"
        },
        "id": "xFTnN7nNmePN"
      }
    },
    {
      "cell_type": "markdown",
      "source": [
        "# Составление датаеста\n",
        "\n",
        "- Загрузи данные из файла our data. (тут тебе может помочь библиотека pandas)\n",
        "- Раздели их по переменным X и Y.\n",
        "- Сконструируй класс MyDataset. (про такого функионал класса можешь почитать [тут](https:pytorch.org/tutorials/beginner/basics/data_tutorial.html))\n",
        "\n",
        "- \"*\" Импортируй линейную регрессию из библиотеки sklearn и обучи её на тех же данных. Ура! теперь у нас есть безлайн!\n"
      ],
      "metadata": {
        "collapsed": false,
        "pycharm": {
          "name": "#%% md\n"
        },
        "id": "SxS4OGrgmePO"
      }
    },
    {
      "cell_type": "markdown",
      "source": [
        "Загрузите данные и разделите на X, Y"
      ],
      "metadata": {
        "collapsed": false,
        "pycharm": {
          "name": "#%% md\n"
        },
        "id": "OdViprJ7mePP"
      }
    },
    {
      "cell_type": "code",
      "execution_count": 7,
      "outputs": [],
      "source": [
        "data = pd.read_csv('my_data.csv') # что-то связанное с csv файлом\n",
        "mask = data.columns\n",
        "X = data[mask[:-1]] # что-то связанное с data\n",
        "Y = data[mask[-1]]# что-то связанное с data"
      ],
      "metadata": {
        "pycharm": {
          "name": "#%%\n"
        },
        "id": "bmVPV5ovmePQ"
      }
    },
    {
      "cell_type": "code",
      "source": [
        "#Ну так себе если, честно\n",
        "#Сейчас немного магий\n",
        "data"
      ],
      "metadata": {
        "colab": {
          "base_uri": "https://localhost:8080/",
          "height": 423
        },
        "id": "3p8p_jzfmxOV",
        "outputId": "57966000-f7fb-42a2-f947-b0dc3f0ac27b"
      },
      "execution_count": 8,
      "outputs": [
        {
          "output_type": "execute_result",
          "data": {
            "text/plain": [
              "                                        winequality-red\n",
              "0     feature_1;feature_2;feature_3;feature_4;featur...\n",
              "1     7.4;0.7;0.0;1.9;0.076;11.0;34.0;0.9978;3.51;0....\n",
              "2     7.8;0.88;0.0;2.6;0.098;25.0;67.0;0.9968;3.2;0....\n",
              "3     7.8;0.76;0.04;2.3;0.092;15.0;54.0;0.997;3.26;0...\n",
              "4     11.2;0.28;0.56;1.9;0.075;17.0;60.0;0.998;3.16;...\n",
              "...                                                 ...\n",
              "1595  6.2;0.6;0.08;2.0;0.09;32.0;44.0;0.9949;3.45;0....\n",
              "1596  5.9;0.55;0.1;2.2;0.062;39.0;51.0;0.99512000000...\n",
              "1597  6.3;0.51;0.13;2.3;0.076;29.0;40.0;0.99574;3.42...\n",
              "1598  5.9;0.645;0.12;2.0;0.075;32.0;44.0;0.995470000...\n",
              "1599  6.0;0.31;0.47;3.6;0.067;18.0;42.0;0.99549;3.39...\n",
              "\n",
              "[1600 rows x 1 columns]"
            ],
            "text/html": [
              "\n",
              "  <div id=\"df-34925e52-c619-4789-adb0-adcf16fcf5d6\" class=\"colab-df-container\">\n",
              "    <div>\n",
              "<style scoped>\n",
              "    .dataframe tbody tr th:only-of-type {\n",
              "        vertical-align: middle;\n",
              "    }\n",
              "\n",
              "    .dataframe tbody tr th {\n",
              "        vertical-align: top;\n",
              "    }\n",
              "\n",
              "    .dataframe thead th {\n",
              "        text-align: right;\n",
              "    }\n",
              "</style>\n",
              "<table border=\"1\" class=\"dataframe\">\n",
              "  <thead>\n",
              "    <tr style=\"text-align: right;\">\n",
              "      <th></th>\n",
              "      <th>winequality-red</th>\n",
              "    </tr>\n",
              "  </thead>\n",
              "  <tbody>\n",
              "    <tr>\n",
              "      <th>0</th>\n",
              "      <td>feature_1;feature_2;feature_3;feature_4;featur...</td>\n",
              "    </tr>\n",
              "    <tr>\n",
              "      <th>1</th>\n",
              "      <td>7.4;0.7;0.0;1.9;0.076;11.0;34.0;0.9978;3.51;0....</td>\n",
              "    </tr>\n",
              "    <tr>\n",
              "      <th>2</th>\n",
              "      <td>7.8;0.88;0.0;2.6;0.098;25.0;67.0;0.9968;3.2;0....</td>\n",
              "    </tr>\n",
              "    <tr>\n",
              "      <th>3</th>\n",
              "      <td>7.8;0.76;0.04;2.3;0.092;15.0;54.0;0.997;3.26;0...</td>\n",
              "    </tr>\n",
              "    <tr>\n",
              "      <th>4</th>\n",
              "      <td>11.2;0.28;0.56;1.9;0.075;17.0;60.0;0.998;3.16;...</td>\n",
              "    </tr>\n",
              "    <tr>\n",
              "      <th>...</th>\n",
              "      <td>...</td>\n",
              "    </tr>\n",
              "    <tr>\n",
              "      <th>1595</th>\n",
              "      <td>6.2;0.6;0.08;2.0;0.09;32.0;44.0;0.9949;3.45;0....</td>\n",
              "    </tr>\n",
              "    <tr>\n",
              "      <th>1596</th>\n",
              "      <td>5.9;0.55;0.1;2.2;0.062;39.0;51.0;0.99512000000...</td>\n",
              "    </tr>\n",
              "    <tr>\n",
              "      <th>1597</th>\n",
              "      <td>6.3;0.51;0.13;2.3;0.076;29.0;40.0;0.99574;3.42...</td>\n",
              "    </tr>\n",
              "    <tr>\n",
              "      <th>1598</th>\n",
              "      <td>5.9;0.645;0.12;2.0;0.075;32.0;44.0;0.995470000...</td>\n",
              "    </tr>\n",
              "    <tr>\n",
              "      <th>1599</th>\n",
              "      <td>6.0;0.31;0.47;3.6;0.067;18.0;42.0;0.99549;3.39...</td>\n",
              "    </tr>\n",
              "  </tbody>\n",
              "</table>\n",
              "<p>1600 rows × 1 columns</p>\n",
              "</div>\n",
              "    <div class=\"colab-df-buttons\">\n",
              "\n",
              "  <div class=\"colab-df-container\">\n",
              "    <button class=\"colab-df-convert\" onclick=\"convertToInteractive('df-34925e52-c619-4789-adb0-adcf16fcf5d6')\"\n",
              "            title=\"Convert this dataframe to an interactive table.\"\n",
              "            style=\"display:none;\">\n",
              "\n",
              "  <svg xmlns=\"http://www.w3.org/2000/svg\" height=\"24px\" viewBox=\"0 -960 960 960\">\n",
              "    <path d=\"M120-120v-720h720v720H120Zm60-500h600v-160H180v160Zm220 220h160v-160H400v160Zm0 220h160v-160H400v160ZM180-400h160v-160H180v160Zm440 0h160v-160H620v160ZM180-180h160v-160H180v160Zm440 0h160v-160H620v160Z\"/>\n",
              "  </svg>\n",
              "    </button>\n",
              "\n",
              "  <style>\n",
              "    .colab-df-container {\n",
              "      display:flex;\n",
              "      gap: 12px;\n",
              "    }\n",
              "\n",
              "    .colab-df-convert {\n",
              "      background-color: #E8F0FE;\n",
              "      border: none;\n",
              "      border-radius: 50%;\n",
              "      cursor: pointer;\n",
              "      display: none;\n",
              "      fill: #1967D2;\n",
              "      height: 32px;\n",
              "      padding: 0 0 0 0;\n",
              "      width: 32px;\n",
              "    }\n",
              "\n",
              "    .colab-df-convert:hover {\n",
              "      background-color: #E2EBFA;\n",
              "      box-shadow: 0px 1px 2px rgba(60, 64, 67, 0.3), 0px 1px 3px 1px rgba(60, 64, 67, 0.15);\n",
              "      fill: #174EA6;\n",
              "    }\n",
              "\n",
              "    .colab-df-buttons div {\n",
              "      margin-bottom: 4px;\n",
              "    }\n",
              "\n",
              "    [theme=dark] .colab-df-convert {\n",
              "      background-color: #3B4455;\n",
              "      fill: #D2E3FC;\n",
              "    }\n",
              "\n",
              "    [theme=dark] .colab-df-convert:hover {\n",
              "      background-color: #434B5C;\n",
              "      box-shadow: 0px 1px 3px 1px rgba(0, 0, 0, 0.15);\n",
              "      filter: drop-shadow(0px 1px 2px rgba(0, 0, 0, 0.3));\n",
              "      fill: #FFFFFF;\n",
              "    }\n",
              "  </style>\n",
              "\n",
              "    <script>\n",
              "      const buttonEl =\n",
              "        document.querySelector('#df-34925e52-c619-4789-adb0-adcf16fcf5d6 button.colab-df-convert');\n",
              "      buttonEl.style.display =\n",
              "        google.colab.kernel.accessAllowed ? 'block' : 'none';\n",
              "\n",
              "      async function convertToInteractive(key) {\n",
              "        const element = document.querySelector('#df-34925e52-c619-4789-adb0-adcf16fcf5d6');\n",
              "        const dataTable =\n",
              "          await google.colab.kernel.invokeFunction('convertToInteractive',\n",
              "                                                    [key], {});\n",
              "        if (!dataTable) return;\n",
              "\n",
              "        const docLinkHtml = 'Like what you see? Visit the ' +\n",
              "          '<a target=\"_blank\" href=https://colab.research.google.com/notebooks/data_table.ipynb>data table notebook</a>'\n",
              "          + ' to learn more about interactive tables.';\n",
              "        element.innerHTML = '';\n",
              "        dataTable['output_type'] = 'display_data';\n",
              "        await google.colab.output.renderOutput(dataTable, element);\n",
              "        const docLink = document.createElement('div');\n",
              "        docLink.innerHTML = docLinkHtml;\n",
              "        element.appendChild(docLink);\n",
              "      }\n",
              "    </script>\n",
              "  </div>\n",
              "\n",
              "\n",
              "<div id=\"df-9b6e8cb3-172a-48dc-8290-176b29f7fe37\">\n",
              "  <button class=\"colab-df-quickchart\" onclick=\"quickchart('df-9b6e8cb3-172a-48dc-8290-176b29f7fe37')\"\n",
              "            title=\"Suggest charts.\"\n",
              "            style=\"display:none;\">\n",
              "\n",
              "<svg xmlns=\"http://www.w3.org/2000/svg\" height=\"24px\"viewBox=\"0 0 24 24\"\n",
              "     width=\"24px\">\n",
              "    <g>\n",
              "        <path d=\"M19 3H5c-1.1 0-2 .9-2 2v14c0 1.1.9 2 2 2h14c1.1 0 2-.9 2-2V5c0-1.1-.9-2-2-2zM9 17H7v-7h2v7zm4 0h-2V7h2v10zm4 0h-2v-4h2v4z\"/>\n",
              "    </g>\n",
              "</svg>\n",
              "  </button>\n",
              "\n",
              "<style>\n",
              "  .colab-df-quickchart {\n",
              "      --bg-color: #E8F0FE;\n",
              "      --fill-color: #1967D2;\n",
              "      --hover-bg-color: #E2EBFA;\n",
              "      --hover-fill-color: #174EA6;\n",
              "      --disabled-fill-color: #AAA;\n",
              "      --disabled-bg-color: #DDD;\n",
              "  }\n",
              "\n",
              "  [theme=dark] .colab-df-quickchart {\n",
              "      --bg-color: #3B4455;\n",
              "      --fill-color: #D2E3FC;\n",
              "      --hover-bg-color: #434B5C;\n",
              "      --hover-fill-color: #FFFFFF;\n",
              "      --disabled-bg-color: #3B4455;\n",
              "      --disabled-fill-color: #666;\n",
              "  }\n",
              "\n",
              "  .colab-df-quickchart {\n",
              "    background-color: var(--bg-color);\n",
              "    border: none;\n",
              "    border-radius: 50%;\n",
              "    cursor: pointer;\n",
              "    display: none;\n",
              "    fill: var(--fill-color);\n",
              "    height: 32px;\n",
              "    padding: 0;\n",
              "    width: 32px;\n",
              "  }\n",
              "\n",
              "  .colab-df-quickchart:hover {\n",
              "    background-color: var(--hover-bg-color);\n",
              "    box-shadow: 0 1px 2px rgba(60, 64, 67, 0.3), 0 1px 3px 1px rgba(60, 64, 67, 0.15);\n",
              "    fill: var(--button-hover-fill-color);\n",
              "  }\n",
              "\n",
              "  .colab-df-quickchart-complete:disabled,\n",
              "  .colab-df-quickchart-complete:disabled:hover {\n",
              "    background-color: var(--disabled-bg-color);\n",
              "    fill: var(--disabled-fill-color);\n",
              "    box-shadow: none;\n",
              "  }\n",
              "\n",
              "  .colab-df-spinner {\n",
              "    border: 2px solid var(--fill-color);\n",
              "    border-color: transparent;\n",
              "    border-bottom-color: var(--fill-color);\n",
              "    animation:\n",
              "      spin 1s steps(1) infinite;\n",
              "  }\n",
              "\n",
              "  @keyframes spin {\n",
              "    0% {\n",
              "      border-color: transparent;\n",
              "      border-bottom-color: var(--fill-color);\n",
              "      border-left-color: var(--fill-color);\n",
              "    }\n",
              "    20% {\n",
              "      border-color: transparent;\n",
              "      border-left-color: var(--fill-color);\n",
              "      border-top-color: var(--fill-color);\n",
              "    }\n",
              "    30% {\n",
              "      border-color: transparent;\n",
              "      border-left-color: var(--fill-color);\n",
              "      border-top-color: var(--fill-color);\n",
              "      border-right-color: var(--fill-color);\n",
              "    }\n",
              "    40% {\n",
              "      border-color: transparent;\n",
              "      border-right-color: var(--fill-color);\n",
              "      border-top-color: var(--fill-color);\n",
              "    }\n",
              "    60% {\n",
              "      border-color: transparent;\n",
              "      border-right-color: var(--fill-color);\n",
              "    }\n",
              "    80% {\n",
              "      border-color: transparent;\n",
              "      border-right-color: var(--fill-color);\n",
              "      border-bottom-color: var(--fill-color);\n",
              "    }\n",
              "    90% {\n",
              "      border-color: transparent;\n",
              "      border-bottom-color: var(--fill-color);\n",
              "    }\n",
              "  }\n",
              "</style>\n",
              "\n",
              "  <script>\n",
              "    async function quickchart(key) {\n",
              "      const quickchartButtonEl =\n",
              "        document.querySelector('#' + key + ' button');\n",
              "      quickchartButtonEl.disabled = true;  // To prevent multiple clicks.\n",
              "      quickchartButtonEl.classList.add('colab-df-spinner');\n",
              "      try {\n",
              "        const charts = await google.colab.kernel.invokeFunction(\n",
              "            'suggestCharts', [key], {});\n",
              "      } catch (error) {\n",
              "        console.error('Error during call to suggestCharts:', error);\n",
              "      }\n",
              "      quickchartButtonEl.classList.remove('colab-df-spinner');\n",
              "      quickchartButtonEl.classList.add('colab-df-quickchart-complete');\n",
              "    }\n",
              "    (() => {\n",
              "      let quickchartButtonEl =\n",
              "        document.querySelector('#df-9b6e8cb3-172a-48dc-8290-176b29f7fe37 button');\n",
              "      quickchartButtonEl.style.display =\n",
              "        google.colab.kernel.accessAllowed ? 'block' : 'none';\n",
              "    })();\n",
              "  </script>\n",
              "</div>\n",
              "    </div>\n",
              "  </div>\n"
            ]
          },
          "metadata": {},
          "execution_count": 8
        }
      ]
    },
    {
      "cell_type": "code",
      "source": [
        "#Сейчас будет красиво\n",
        "columns = (data.iloc[0,0]).split(';')\n",
        "\n",
        "tmp = []\n",
        "for i in range(1, 1600):\n",
        "  tmp.append((data.iloc[i,0]).split(';'))\n",
        "data = pd.DataFrame(tmp, columns=columns)\n",
        "mask = data.columns\n",
        "X = data[mask[:-1]] # что-то связанное с data\n",
        "Y = data[mask[-1]]\n",
        "data.head()\n"
      ],
      "metadata": {
        "colab": {
          "base_uri": "https://localhost:8080/",
          "height": 206
        },
        "id": "cDSs4UHhnk_5",
        "outputId": "83cb9f20-8f75-4bfc-91f3-fbab09645ba4"
      },
      "execution_count": 9,
      "outputs": [
        {
          "output_type": "execute_result",
          "data": {
            "text/plain": [
              "  feature_1 feature_2 feature_3 feature_4 feature_5 feature_6 feature_7  \\\n",
              "0       7.4       0.7       0.0       1.9     0.076      11.0      34.0   \n",
              "1       7.8      0.88       0.0       2.6     0.098      25.0      67.0   \n",
              "2       7.8      0.76      0.04       2.3     0.092      15.0      54.0   \n",
              "3      11.2      0.28      0.56       1.9     0.075      17.0      60.0   \n",
              "4       7.4       0.7       0.0       1.9     0.076      11.0      34.0   \n",
              "\n",
              "  feature_8 feature_9 feature_10 feature_11 target  \n",
              "0    0.9978      3.51       0.56        9.4      5  \n",
              "1    0.9968       3.2       0.68        9.8      5  \n",
              "2     0.997      3.26       0.65        9.8      5  \n",
              "3     0.998      3.16       0.58        9.8      6  \n",
              "4    0.9978      3.51       0.56        9.4      5  "
            ],
            "text/html": [
              "\n",
              "  <div id=\"df-bcc5229e-2a13-4231-9375-fb12a940eb3c\" class=\"colab-df-container\">\n",
              "    <div>\n",
              "<style scoped>\n",
              "    .dataframe tbody tr th:only-of-type {\n",
              "        vertical-align: middle;\n",
              "    }\n",
              "\n",
              "    .dataframe tbody tr th {\n",
              "        vertical-align: top;\n",
              "    }\n",
              "\n",
              "    .dataframe thead th {\n",
              "        text-align: right;\n",
              "    }\n",
              "</style>\n",
              "<table border=\"1\" class=\"dataframe\">\n",
              "  <thead>\n",
              "    <tr style=\"text-align: right;\">\n",
              "      <th></th>\n",
              "      <th>feature_1</th>\n",
              "      <th>feature_2</th>\n",
              "      <th>feature_3</th>\n",
              "      <th>feature_4</th>\n",
              "      <th>feature_5</th>\n",
              "      <th>feature_6</th>\n",
              "      <th>feature_7</th>\n",
              "      <th>feature_8</th>\n",
              "      <th>feature_9</th>\n",
              "      <th>feature_10</th>\n",
              "      <th>feature_11</th>\n",
              "      <th>target</th>\n",
              "    </tr>\n",
              "  </thead>\n",
              "  <tbody>\n",
              "    <tr>\n",
              "      <th>0</th>\n",
              "      <td>7.4</td>\n",
              "      <td>0.7</td>\n",
              "      <td>0.0</td>\n",
              "      <td>1.9</td>\n",
              "      <td>0.076</td>\n",
              "      <td>11.0</td>\n",
              "      <td>34.0</td>\n",
              "      <td>0.9978</td>\n",
              "      <td>3.51</td>\n",
              "      <td>0.56</td>\n",
              "      <td>9.4</td>\n",
              "      <td>5</td>\n",
              "    </tr>\n",
              "    <tr>\n",
              "      <th>1</th>\n",
              "      <td>7.8</td>\n",
              "      <td>0.88</td>\n",
              "      <td>0.0</td>\n",
              "      <td>2.6</td>\n",
              "      <td>0.098</td>\n",
              "      <td>25.0</td>\n",
              "      <td>67.0</td>\n",
              "      <td>0.9968</td>\n",
              "      <td>3.2</td>\n",
              "      <td>0.68</td>\n",
              "      <td>9.8</td>\n",
              "      <td>5</td>\n",
              "    </tr>\n",
              "    <tr>\n",
              "      <th>2</th>\n",
              "      <td>7.8</td>\n",
              "      <td>0.76</td>\n",
              "      <td>0.04</td>\n",
              "      <td>2.3</td>\n",
              "      <td>0.092</td>\n",
              "      <td>15.0</td>\n",
              "      <td>54.0</td>\n",
              "      <td>0.997</td>\n",
              "      <td>3.26</td>\n",
              "      <td>0.65</td>\n",
              "      <td>9.8</td>\n",
              "      <td>5</td>\n",
              "    </tr>\n",
              "    <tr>\n",
              "      <th>3</th>\n",
              "      <td>11.2</td>\n",
              "      <td>0.28</td>\n",
              "      <td>0.56</td>\n",
              "      <td>1.9</td>\n",
              "      <td>0.075</td>\n",
              "      <td>17.0</td>\n",
              "      <td>60.0</td>\n",
              "      <td>0.998</td>\n",
              "      <td>3.16</td>\n",
              "      <td>0.58</td>\n",
              "      <td>9.8</td>\n",
              "      <td>6</td>\n",
              "    </tr>\n",
              "    <tr>\n",
              "      <th>4</th>\n",
              "      <td>7.4</td>\n",
              "      <td>0.7</td>\n",
              "      <td>0.0</td>\n",
              "      <td>1.9</td>\n",
              "      <td>0.076</td>\n",
              "      <td>11.0</td>\n",
              "      <td>34.0</td>\n",
              "      <td>0.9978</td>\n",
              "      <td>3.51</td>\n",
              "      <td>0.56</td>\n",
              "      <td>9.4</td>\n",
              "      <td>5</td>\n",
              "    </tr>\n",
              "  </tbody>\n",
              "</table>\n",
              "</div>\n",
              "    <div class=\"colab-df-buttons\">\n",
              "\n",
              "  <div class=\"colab-df-container\">\n",
              "    <button class=\"colab-df-convert\" onclick=\"convertToInteractive('df-bcc5229e-2a13-4231-9375-fb12a940eb3c')\"\n",
              "            title=\"Convert this dataframe to an interactive table.\"\n",
              "            style=\"display:none;\">\n",
              "\n",
              "  <svg xmlns=\"http://www.w3.org/2000/svg\" height=\"24px\" viewBox=\"0 -960 960 960\">\n",
              "    <path d=\"M120-120v-720h720v720H120Zm60-500h600v-160H180v160Zm220 220h160v-160H400v160Zm0 220h160v-160H400v160ZM180-400h160v-160H180v160Zm440 0h160v-160H620v160ZM180-180h160v-160H180v160Zm440 0h160v-160H620v160Z\"/>\n",
              "  </svg>\n",
              "    </button>\n",
              "\n",
              "  <style>\n",
              "    .colab-df-container {\n",
              "      display:flex;\n",
              "      gap: 12px;\n",
              "    }\n",
              "\n",
              "    .colab-df-convert {\n",
              "      background-color: #E8F0FE;\n",
              "      border: none;\n",
              "      border-radius: 50%;\n",
              "      cursor: pointer;\n",
              "      display: none;\n",
              "      fill: #1967D2;\n",
              "      height: 32px;\n",
              "      padding: 0 0 0 0;\n",
              "      width: 32px;\n",
              "    }\n",
              "\n",
              "    .colab-df-convert:hover {\n",
              "      background-color: #E2EBFA;\n",
              "      box-shadow: 0px 1px 2px rgba(60, 64, 67, 0.3), 0px 1px 3px 1px rgba(60, 64, 67, 0.15);\n",
              "      fill: #174EA6;\n",
              "    }\n",
              "\n",
              "    .colab-df-buttons div {\n",
              "      margin-bottom: 4px;\n",
              "    }\n",
              "\n",
              "    [theme=dark] .colab-df-convert {\n",
              "      background-color: #3B4455;\n",
              "      fill: #D2E3FC;\n",
              "    }\n",
              "\n",
              "    [theme=dark] .colab-df-convert:hover {\n",
              "      background-color: #434B5C;\n",
              "      box-shadow: 0px 1px 3px 1px rgba(0, 0, 0, 0.15);\n",
              "      filter: drop-shadow(0px 1px 2px rgba(0, 0, 0, 0.3));\n",
              "      fill: #FFFFFF;\n",
              "    }\n",
              "  </style>\n",
              "\n",
              "    <script>\n",
              "      const buttonEl =\n",
              "        document.querySelector('#df-bcc5229e-2a13-4231-9375-fb12a940eb3c button.colab-df-convert');\n",
              "      buttonEl.style.display =\n",
              "        google.colab.kernel.accessAllowed ? 'block' : 'none';\n",
              "\n",
              "      async function convertToInteractive(key) {\n",
              "        const element = document.querySelector('#df-bcc5229e-2a13-4231-9375-fb12a940eb3c');\n",
              "        const dataTable =\n",
              "          await google.colab.kernel.invokeFunction('convertToInteractive',\n",
              "                                                    [key], {});\n",
              "        if (!dataTable) return;\n",
              "\n",
              "        const docLinkHtml = 'Like what you see? Visit the ' +\n",
              "          '<a target=\"_blank\" href=https://colab.research.google.com/notebooks/data_table.ipynb>data table notebook</a>'\n",
              "          + ' to learn more about interactive tables.';\n",
              "        element.innerHTML = '';\n",
              "        dataTable['output_type'] = 'display_data';\n",
              "        await google.colab.output.renderOutput(dataTable, element);\n",
              "        const docLink = document.createElement('div');\n",
              "        docLink.innerHTML = docLinkHtml;\n",
              "        element.appendChild(docLink);\n",
              "      }\n",
              "    </script>\n",
              "  </div>\n",
              "\n",
              "\n",
              "<div id=\"df-4dc7f8d8-740f-4530-8827-af15b1a873b5\">\n",
              "  <button class=\"colab-df-quickchart\" onclick=\"quickchart('df-4dc7f8d8-740f-4530-8827-af15b1a873b5')\"\n",
              "            title=\"Suggest charts.\"\n",
              "            style=\"display:none;\">\n",
              "\n",
              "<svg xmlns=\"http://www.w3.org/2000/svg\" height=\"24px\"viewBox=\"0 0 24 24\"\n",
              "     width=\"24px\">\n",
              "    <g>\n",
              "        <path d=\"M19 3H5c-1.1 0-2 .9-2 2v14c0 1.1.9 2 2 2h14c1.1 0 2-.9 2-2V5c0-1.1-.9-2-2-2zM9 17H7v-7h2v7zm4 0h-2V7h2v10zm4 0h-2v-4h2v4z\"/>\n",
              "    </g>\n",
              "</svg>\n",
              "  </button>\n",
              "\n",
              "<style>\n",
              "  .colab-df-quickchart {\n",
              "      --bg-color: #E8F0FE;\n",
              "      --fill-color: #1967D2;\n",
              "      --hover-bg-color: #E2EBFA;\n",
              "      --hover-fill-color: #174EA6;\n",
              "      --disabled-fill-color: #AAA;\n",
              "      --disabled-bg-color: #DDD;\n",
              "  }\n",
              "\n",
              "  [theme=dark] .colab-df-quickchart {\n",
              "      --bg-color: #3B4455;\n",
              "      --fill-color: #D2E3FC;\n",
              "      --hover-bg-color: #434B5C;\n",
              "      --hover-fill-color: #FFFFFF;\n",
              "      --disabled-bg-color: #3B4455;\n",
              "      --disabled-fill-color: #666;\n",
              "  }\n",
              "\n",
              "  .colab-df-quickchart {\n",
              "    background-color: var(--bg-color);\n",
              "    border: none;\n",
              "    border-radius: 50%;\n",
              "    cursor: pointer;\n",
              "    display: none;\n",
              "    fill: var(--fill-color);\n",
              "    height: 32px;\n",
              "    padding: 0;\n",
              "    width: 32px;\n",
              "  }\n",
              "\n",
              "  .colab-df-quickchart:hover {\n",
              "    background-color: var(--hover-bg-color);\n",
              "    box-shadow: 0 1px 2px rgba(60, 64, 67, 0.3), 0 1px 3px 1px rgba(60, 64, 67, 0.15);\n",
              "    fill: var(--button-hover-fill-color);\n",
              "  }\n",
              "\n",
              "  .colab-df-quickchart-complete:disabled,\n",
              "  .colab-df-quickchart-complete:disabled:hover {\n",
              "    background-color: var(--disabled-bg-color);\n",
              "    fill: var(--disabled-fill-color);\n",
              "    box-shadow: none;\n",
              "  }\n",
              "\n",
              "  .colab-df-spinner {\n",
              "    border: 2px solid var(--fill-color);\n",
              "    border-color: transparent;\n",
              "    border-bottom-color: var(--fill-color);\n",
              "    animation:\n",
              "      spin 1s steps(1) infinite;\n",
              "  }\n",
              "\n",
              "  @keyframes spin {\n",
              "    0% {\n",
              "      border-color: transparent;\n",
              "      border-bottom-color: var(--fill-color);\n",
              "      border-left-color: var(--fill-color);\n",
              "    }\n",
              "    20% {\n",
              "      border-color: transparent;\n",
              "      border-left-color: var(--fill-color);\n",
              "      border-top-color: var(--fill-color);\n",
              "    }\n",
              "    30% {\n",
              "      border-color: transparent;\n",
              "      border-left-color: var(--fill-color);\n",
              "      border-top-color: var(--fill-color);\n",
              "      border-right-color: var(--fill-color);\n",
              "    }\n",
              "    40% {\n",
              "      border-color: transparent;\n",
              "      border-right-color: var(--fill-color);\n",
              "      border-top-color: var(--fill-color);\n",
              "    }\n",
              "    60% {\n",
              "      border-color: transparent;\n",
              "      border-right-color: var(--fill-color);\n",
              "    }\n",
              "    80% {\n",
              "      border-color: transparent;\n",
              "      border-right-color: var(--fill-color);\n",
              "      border-bottom-color: var(--fill-color);\n",
              "    }\n",
              "    90% {\n",
              "      border-color: transparent;\n",
              "      border-bottom-color: var(--fill-color);\n",
              "    }\n",
              "  }\n",
              "</style>\n",
              "\n",
              "  <script>\n",
              "    async function quickchart(key) {\n",
              "      const quickchartButtonEl =\n",
              "        document.querySelector('#' + key + ' button');\n",
              "      quickchartButtonEl.disabled = true;  // To prevent multiple clicks.\n",
              "      quickchartButtonEl.classList.add('colab-df-spinner');\n",
              "      try {\n",
              "        const charts = await google.colab.kernel.invokeFunction(\n",
              "            'suggestCharts', [key], {});\n",
              "      } catch (error) {\n",
              "        console.error('Error during call to suggestCharts:', error);\n",
              "      }\n",
              "      quickchartButtonEl.classList.remove('colab-df-spinner');\n",
              "      quickchartButtonEl.classList.add('colab-df-quickchart-complete');\n",
              "    }\n",
              "    (() => {\n",
              "      let quickchartButtonEl =\n",
              "        document.querySelector('#df-4dc7f8d8-740f-4530-8827-af15b1a873b5 button');\n",
              "      quickchartButtonEl.style.display =\n",
              "        google.colab.kernel.accessAllowed ? 'block' : 'none';\n",
              "    })();\n",
              "  </script>\n",
              "</div>\n",
              "    </div>\n",
              "  </div>\n"
            ]
          },
          "metadata": {},
          "execution_count": 9
        }
      ]
    },
    {
      "cell_type": "code",
      "source": [
        "data.target.unique()"
      ],
      "metadata": {
        "colab": {
          "base_uri": "https://localhost:8080/"
        },
        "id": "zBP2QEo_3eso",
        "outputId": "80a394fc-119e-4238-a112-6a190db78606"
      },
      "execution_count": 11,
      "outputs": [
        {
          "output_type": "execute_result",
          "data": {
            "text/plain": [
              "array(['5', '6', '7', '4', '8', '3'], dtype=object)"
            ]
          },
          "metadata": {},
          "execution_count": 11
        }
      ]
    },
    {
      "cell_type": "markdown",
      "source": [
        "Создайте класс DataSet - https://pytorch.org/tutorials/beginner/basics/data_tutorial.html"
      ],
      "metadata": {
        "collapsed": false,
        "pycharm": {
          "name": "#%% md\n"
        },
        "id": "TfL-fZjOmePQ"
      }
    },
    {
      "cell_type": "code",
      "execution_count": null,
      "outputs": [],
      "source": [
        "class MyDataset(Dataset):\n",
        "    def __init__(self, x, y):\n",
        "        self.x = x\n",
        "        self.y = y\n",
        "\n",
        "    def __len__(self):\n",
        "      #будем считать, что под len имеется в виду кол-во строчек\n",
        "        return len(self.y)\n",
        "\n",
        "    def __getitem__(self, idx):\n",
        "      #тут я конечно не очень понимаю, что хочется ячейку или столбец\n",
        "      #в примере возвращается картинка то есть массив\n",
        "        return"
      ],
      "metadata": {
        "pycharm": {
          "name": "#%%\n"
        },
        "id": "vd_FcuY1mePQ"
      }
    },
    {
      "cell_type": "code",
      "source": [
        "from sklearn import linear_model\n",
        "reg = linear_model.LinearRegression()\n",
        "reg.fit(X,Y)"
      ],
      "metadata": {
        "colab": {
          "base_uri": "https://localhost:8080/",
          "height": 74
        },
        "id": "JaDOfHV-rq94",
        "outputId": "b15a5e59-f412-49a6-ad75-2586124b9a13"
      },
      "execution_count": null,
      "outputs": [
        {
          "output_type": "execute_result",
          "data": {
            "text/plain": [
              "LinearRegression()"
            ],
            "text/html": [
              "<style>#sk-container-id-1 {color: black;background-color: white;}#sk-container-id-1 pre{padding: 0;}#sk-container-id-1 div.sk-toggleable {background-color: white;}#sk-container-id-1 label.sk-toggleable__label {cursor: pointer;display: block;width: 100%;margin-bottom: 0;padding: 0.3em;box-sizing: border-box;text-align: center;}#sk-container-id-1 label.sk-toggleable__label-arrow:before {content: \"▸\";float: left;margin-right: 0.25em;color: #696969;}#sk-container-id-1 label.sk-toggleable__label-arrow:hover:before {color: black;}#sk-container-id-1 div.sk-estimator:hover label.sk-toggleable__label-arrow:before {color: black;}#sk-container-id-1 div.sk-toggleable__content {max-height: 0;max-width: 0;overflow: hidden;text-align: left;background-color: #f0f8ff;}#sk-container-id-1 div.sk-toggleable__content pre {margin: 0.2em;color: black;border-radius: 0.25em;background-color: #f0f8ff;}#sk-container-id-1 input.sk-toggleable__control:checked~div.sk-toggleable__content {max-height: 200px;max-width: 100%;overflow: auto;}#sk-container-id-1 input.sk-toggleable__control:checked~label.sk-toggleable__label-arrow:before {content: \"▾\";}#sk-container-id-1 div.sk-estimator input.sk-toggleable__control:checked~label.sk-toggleable__label {background-color: #d4ebff;}#sk-container-id-1 div.sk-label input.sk-toggleable__control:checked~label.sk-toggleable__label {background-color: #d4ebff;}#sk-container-id-1 input.sk-hidden--visually {border: 0;clip: rect(1px 1px 1px 1px);clip: rect(1px, 1px, 1px, 1px);height: 1px;margin: -1px;overflow: hidden;padding: 0;position: absolute;width: 1px;}#sk-container-id-1 div.sk-estimator {font-family: monospace;background-color: #f0f8ff;border: 1px dotted black;border-radius: 0.25em;box-sizing: border-box;margin-bottom: 0.5em;}#sk-container-id-1 div.sk-estimator:hover {background-color: #d4ebff;}#sk-container-id-1 div.sk-parallel-item::after {content: \"\";width: 100%;border-bottom: 1px solid gray;flex-grow: 1;}#sk-container-id-1 div.sk-label:hover label.sk-toggleable__label {background-color: #d4ebff;}#sk-container-id-1 div.sk-serial::before {content: \"\";position: absolute;border-left: 1px solid gray;box-sizing: border-box;top: 0;bottom: 0;left: 50%;z-index: 0;}#sk-container-id-1 div.sk-serial {display: flex;flex-direction: column;align-items: center;background-color: white;padding-right: 0.2em;padding-left: 0.2em;position: relative;}#sk-container-id-1 div.sk-item {position: relative;z-index: 1;}#sk-container-id-1 div.sk-parallel {display: flex;align-items: stretch;justify-content: center;background-color: white;position: relative;}#sk-container-id-1 div.sk-item::before, #sk-container-id-1 div.sk-parallel-item::before {content: \"\";position: absolute;border-left: 1px solid gray;box-sizing: border-box;top: 0;bottom: 0;left: 50%;z-index: -1;}#sk-container-id-1 div.sk-parallel-item {display: flex;flex-direction: column;z-index: 1;position: relative;background-color: white;}#sk-container-id-1 div.sk-parallel-item:first-child::after {align-self: flex-end;width: 50%;}#sk-container-id-1 div.sk-parallel-item:last-child::after {align-self: flex-start;width: 50%;}#sk-container-id-1 div.sk-parallel-item:only-child::after {width: 0;}#sk-container-id-1 div.sk-dashed-wrapped {border: 1px dashed gray;margin: 0 0.4em 0.5em 0.4em;box-sizing: border-box;padding-bottom: 0.4em;background-color: white;}#sk-container-id-1 div.sk-label label {font-family: monospace;font-weight: bold;display: inline-block;line-height: 1.2em;}#sk-container-id-1 div.sk-label-container {text-align: center;}#sk-container-id-1 div.sk-container {/* jupyter's `normalize.less` sets `[hidden] { display: none; }` but bootstrap.min.css set `[hidden] { display: none !important; }` so we also need the `!important` here to be able to override the default hidden behavior on the sphinx rendered scikit-learn.org. See: https://github.com/scikit-learn/scikit-learn/issues/21755 */display: inline-block !important;position: relative;}#sk-container-id-1 div.sk-text-repr-fallback {display: none;}</style><div id=\"sk-container-id-1\" class=\"sk-top-container\"><div class=\"sk-text-repr-fallback\"><pre>LinearRegression()</pre><b>In a Jupyter environment, please rerun this cell to show the HTML representation or trust the notebook. <br />On GitHub, the HTML representation is unable to render, please try loading this page with nbviewer.org.</b></div><div class=\"sk-container\" hidden><div class=\"sk-item\"><div class=\"sk-estimator sk-toggleable\"><input class=\"sk-toggleable__control sk-hidden--visually\" id=\"sk-estimator-id-1\" type=\"checkbox\" checked><label for=\"sk-estimator-id-1\" class=\"sk-toggleable__label sk-toggleable__label-arrow\">LinearRegression</label><div class=\"sk-toggleable__content\"><pre>LinearRegression()</pre></div></div></div></div></div>"
            ]
          },
          "metadata": {},
          "execution_count": 65
        }
      ]
    },
    {
      "cell_type": "markdown",
      "source": [
        "# Сконструируйте класс нейронной сети\n",
        "В этом задании тебе предстоит сконструировать полносвязную двухслойную нейронную сеть.\n",
        "\n",
        "- Вспомните какие сущности необходимы для обучения нейронной сети и включите их в атрибуты класса.\n",
        "- Основываясь на типе данной задачи выберете подходящую лосс функцию.\n",
        "- На основе требований первых двух пунктов заполните методы forward и training_step\n",
        "- \"*\" Настрой обучение батчами (это не обязательно делать в противном случае)\n",
        "\n",
        "Напоминаем, что не обязательно пользоваться предлагаемым шаблоном! Если вы знаете более быстрые и простые пути,\n",
        "то будет интересно на них посмотреть."
      ],
      "metadata": {
        "collapsed": false,
        "pycharm": {
          "name": "#%% md\n"
        },
        "id": "-hiAktW4mePR"
      }
    },
    {
      "cell_type": "code",
      "source": [
        "data['target'] =data['target'].apply(lambda x:int( x) - 3)\n",
        "data.target"
      ],
      "metadata": {
        "colab": {
          "base_uri": "https://localhost:8080/"
        },
        "id": "KG3IgVjUDLgp",
        "outputId": "4c657f58-740a-40dd-872c-5094cec40daf"
      },
      "execution_count": 29,
      "outputs": [
        {
          "output_type": "execute_result",
          "data": {
            "text/plain": [
              "0       2\n",
              "1       2\n",
              "2       2\n",
              "3       3\n",
              "4       2\n",
              "       ..\n",
              "1594    2\n",
              "1595    3\n",
              "1596    3\n",
              "1597    2\n",
              "1598    3\n",
              "Name: target, Length: 1599, dtype: int64"
            ]
          },
          "metadata": {},
          "execution_count": 29
        }
      ]
    },
    {
      "cell_type": "code",
      "source": [
        "X_train, Y_train = tf.constant(data.loc[:1400, mask[: -1]],dtype = tf.float32), tf.constant( data.loc[:1400, mask[-1]], dtype = tf.float32)\n",
        "X_test, Y_test= tf.constant(data.loc[1400:, mask[: -1]], dtype = tf.float32) , tf.constant(data.loc[1400:, mask[-1]], dtype = tf.float32)\n",
        "X_train"
      ],
      "metadata": {
        "colab": {
          "base_uri": "https://localhost:8080/"
        },
        "id": "gLMrz3fLDCru",
        "outputId": "443b82b0-48e8-4269-ce31-2edf95968b7a"
      },
      "execution_count": 33,
      "outputs": [
        {
          "output_type": "execute_result",
          "data": {
            "text/plain": [
              "<tf.Tensor: shape=(1401, 11), dtype=float32, numpy=\n",
              "array([[ 7.4 ,  0.7 ,  0.  , ...,  3.51,  0.56,  9.4 ],\n",
              "       [ 7.8 ,  0.88,  0.  , ...,  3.2 ,  0.68,  9.8 ],\n",
              "       [ 7.8 ,  0.76,  0.04, ...,  3.26,  0.65,  9.8 ],\n",
              "       ...,\n",
              "       [ 7.  ,  0.6 ,  0.12, ...,  3.52,  0.62, 10.2 ],\n",
              "       [ 7.2 ,  0.67,  0.  , ...,  3.42,  0.72, 11.1 ],\n",
              "       [ 7.9 ,  0.69,  0.21, ...,  3.25,  0.51,  9.9 ]], dtype=float32)>"
            ]
          },
          "metadata": {},
          "execution_count": 33
        }
      ]
    },
    {
      "cell_type": "code",
      "source": [
        "# у меня в таргете всего 6 разных значении это можно назвать задачей классификации, так и расмотрим\n",
        "# Вот модель и её реализация\n",
        "#разбиение данных\n",
        "X_train, Y_train = tf.constant(data.loc[:1400, mask[: -1]],dtype = tf.float32), tf.constant( data.loc[:1400, mask[-1]], dtype = tf.float32)\n",
        "X_test, Y_train = tf.constant(data.loc[1400:, mask[: -1]], dtype = tf.float32) , tf.constant(data.loc[:1400, mask[-1]], dtype = tf.float32)\n",
        "model = keras.Sequential(\n",
        "    [\n",
        "        keras.layers.Dense(512, activation = 'relu', input_shape = (11,)),\n",
        "        keras.layers.Dense(256, activation = 'relu', input_shape= (512,)),\n",
        "        keras.layers.Dense(6, activation = 'softmax')\n",
        "    ]\n",
        ")\n",
        "#Она действует почти на угад на угад\n",
        "model.compile(optimizer = tf.keras.optimizers.SGD(), loss = 'sparse_categorical_crossentropy', metrics = ['accuracy'])\n",
        "model.fit(X_train, Y_train, epochs=20, batch_size=32, validation_data=(X_test, Y_test))"
      ],
      "metadata": {
        "colab": {
          "base_uri": "https://localhost:8080/"
        },
        "id": "y-4daTxA3BqQ",
        "outputId": "c526d349-f1a8-4612-de6e-55b22d7413a3"
      },
      "execution_count": 43,
      "outputs": [
        {
          "output_type": "stream",
          "name": "stdout",
          "text": [
            "Epoch 1/20\n",
            "44/44 [==============================] - 1s 9ms/step - loss: 1.9514 - accuracy: 0.4397 - val_loss: 1.1892 - val_accuracy: 0.4573\n",
            "Epoch 2/20\n",
            "44/44 [==============================] - 0s 6ms/step - loss: 1.1478 - accuracy: 0.4975 - val_loss: 1.1903 - val_accuracy: 0.4774\n",
            "Epoch 3/20\n",
            "44/44 [==============================] - 0s 6ms/step - loss: 1.1300 - accuracy: 0.4982 - val_loss: 1.2338 - val_accuracy: 0.4623\n",
            "Epoch 4/20\n",
            "44/44 [==============================] - 0s 6ms/step - loss: 1.1316 - accuracy: 0.5018 - val_loss: 1.1791 - val_accuracy: 0.4573\n",
            "Epoch 5/20\n",
            "44/44 [==============================] - 0s 6ms/step - loss: 1.1220 - accuracy: 0.4989 - val_loss: 1.2832 - val_accuracy: 0.4422\n",
            "Epoch 6/20\n",
            "44/44 [==============================] - 0s 9ms/step - loss: 1.1214 - accuracy: 0.4925 - val_loss: 1.2077 - val_accuracy: 0.4975\n",
            "Epoch 7/20\n",
            "44/44 [==============================] - 0s 8ms/step - loss: 1.1174 - accuracy: 0.5096 - val_loss: 1.2010 - val_accuracy: 0.4874\n",
            "Epoch 8/20\n",
            "44/44 [==============================] - 0s 8ms/step - loss: 1.1113 - accuracy: 0.4982 - val_loss: 1.1979 - val_accuracy: 0.4573\n",
            "Epoch 9/20\n",
            "44/44 [==============================] - 0s 9ms/step - loss: 1.1080 - accuracy: 0.5225 - val_loss: 1.2229 - val_accuracy: 0.4372\n",
            "Epoch 10/20\n",
            "44/44 [==============================] - 0s 7ms/step - loss: 1.1076 - accuracy: 0.5175 - val_loss: 1.1773 - val_accuracy: 0.4874\n",
            "Epoch 11/20\n",
            "44/44 [==============================] - 0s 8ms/step - loss: 1.1121 - accuracy: 0.5111 - val_loss: 1.2239 - val_accuracy: 0.4673\n",
            "Epoch 12/20\n",
            "44/44 [==============================] - 0s 9ms/step - loss: 1.1021 - accuracy: 0.5153 - val_loss: 1.1936 - val_accuracy: 0.4774\n",
            "Epoch 13/20\n",
            "44/44 [==============================] - 0s 9ms/step - loss: 1.1030 - accuracy: 0.5039 - val_loss: 1.2137 - val_accuracy: 0.4623\n",
            "Epoch 14/20\n",
            "44/44 [==============================] - 0s 9ms/step - loss: 1.0988 - accuracy: 0.5111 - val_loss: 1.2314 - val_accuracy: 0.4673\n",
            "Epoch 15/20\n",
            "44/44 [==============================] - 0s 7ms/step - loss: 1.1005 - accuracy: 0.5289 - val_loss: 1.1980 - val_accuracy: 0.4573\n",
            "Epoch 16/20\n",
            "44/44 [==============================] - 0s 6ms/step - loss: 1.1028 - accuracy: 0.5146 - val_loss: 1.2412 - val_accuracy: 0.4724\n",
            "Epoch 17/20\n",
            "44/44 [==============================] - 0s 7ms/step - loss: 1.0952 - accuracy: 0.5082 - val_loss: 1.2183 - val_accuracy: 0.4523\n",
            "Epoch 18/20\n",
            "44/44 [==============================] - 0s 7ms/step - loss: 1.1004 - accuracy: 0.5132 - val_loss: 1.2263 - val_accuracy: 0.4673\n",
            "Epoch 19/20\n",
            "44/44 [==============================] - 0s 6ms/step - loss: 1.0909 - accuracy: 0.5375 - val_loss: 1.1909 - val_accuracy: 0.4774\n",
            "Epoch 20/20\n",
            "44/44 [==============================] - 0s 7ms/step - loss: 1.0861 - accuracy: 0.5239 - val_loss: 1.2730 - val_accuracy: 0.4271\n"
          ]
        },
        {
          "output_type": "execute_result",
          "data": {
            "text/plain": [
              "<keras.src.callbacks.History at 0x7be61020bcd0>"
            ]
          },
          "metadata": {},
          "execution_count": 43
        }
      ]
    },
    {
      "cell_type": "markdown",
      "source": [
        "В моменте я понял, что писать всё в ручную очень не хочется и решил использовать tensorflow)\n",
        "\n",
        "\n",
        "К тому же временя ограничено, а количество дедлайнов только растет\n",
        "\n",
        "По идее надо посмотреть почему так. Вполне возможно, что нормализация могла помочь или можно было бы добавить droput, но это так базово поиграиться. Ещё конечно нужно бы графики поглядеть, но да ладно"
      ],
      "metadata": {
        "id": "y3Ymi0sbHzrS"
      }
    },
    {
      "cell_type": "code",
      "source": [],
      "metadata": {
        "id": "L95T3T8OH0ZL"
      },
      "execution_count": null,
      "outputs": []
    },
    {
      "cell_type": "markdown",
      "source": [
        "# Обучение и аналитика\n",
        "В этом задании тебе предстоит обучить сконструированную архитектуру.\n",
        "\n",
        "- Создай объект класса MyDataset и MyNet, а также других атрибутов, если ваше решение их предусматривает.\n",
        "- Напишите цикл обучения нейронной сети.\n",
        "- Обучите нейронную сеть и оцените финальной качество на валидационном датасете.\n",
        "- \"*\" Каждый N-ый шаг изображайте на графике, как менялось значение лосс функции на тестовых данных и\n",
        "на части валидационных данных."
      ],
      "metadata": {
        "collapsed": false,
        "pycharm": {
          "name": "#%% md\n"
        },
        "id": "clLYHauPmePS"
      }
    },
    {
      "cell_type": "code",
      "execution_count": null,
      "outputs": [],
      "source": [
        "#https://proglib.io/p/pishem-neyroset-na-python-s-nulya-2020-10-07\n",
        "\n",
        "import numpy as np\n",
        "\n",
        "\n",
        "def sigmoid(x):\n",
        "  return 1/(1/ np.exp(-x))\n",
        "\n",
        "\n",
        "\n",
        "class Neuron:\n",
        "  def __init__(self, w, b):\n",
        "    self.w = w\n",
        "    self.b = b\n",
        "  def forward(self, input):\n",
        "    return sigmoid(np.dot(self.w, input) +  self.b )\n",
        "\n",
        "\n",
        "class MyNet(nn.Module):\n",
        "    def __init__(self, ): #тут должны дополнительно передаваться какие-то параметры\n",
        "        super().__init__()\n",
        "        # случайно зададим веса в начале\n",
        "        weights = np.random.random()\n",
        "        b = 0\n",
        "        # тут должно: быть что-то про устройство сети\n",
        "\n",
        "        self.optimizer = ...\n",
        "        self.loss = ...\n",
        "\n",
        "    def forward(self, x):\n",
        "        \"\"\"\n",
        "        Прямой проход по всем слоям сети для получения предсказания.\n",
        "        :param x:\n",
        "        Входящие данные.\n",
        "        :return:\n",
        "        Предсказанные значения для входящих данных.\n",
        "        \"\"\"\n",
        "\n",
        "        return ...\n",
        "\n",
        "    def training_step(self, train_data):\n",
        "        \"\"\"\n",
        "        Реализация одного шага обучения.\n",
        "        :param train_data:\n",
        "        Данные для прохода.\n",
        "        :return:\n",
        "        Значение лосс функции этого шага обучения.\n",
        "        \"\"\"\n",
        "\n",
        "        return ...\n",
        "\n"
      ],
      "metadata": {
        "pycharm": {
          "name": "#%%\n"
        },
        "id": "bv93d7wNmePR"
      }
    },
    {
      "cell_type": "code",
      "execution_count": null,
      "outputs": [],
      "source": [
        "dataset = MyDataset(...)\n",
        "model = MyNet(...)"
      ],
      "metadata": {
        "pycharm": {
          "name": "#%%\n"
        },
        "id": "PDXcZMCqmePS"
      }
    },
    {
      "cell_type": "code",
      "execution_count": null,
      "outputs": [],
      "source": [
        "n_epochs = ...\n",
        "\n",
        "for epoch in range(n_epochs):\n",
        "    for data in tqdm(dataset):\n",
        "        ..."
      ],
      "metadata": {
        "pycharm": {
          "name": "#%%\n"
        },
        "id": "9j5_40ghmePT"
      }
    },
    {
      "cell_type": "markdown",
      "source": [
        "Не в зависимости от того что тебе удалось сделать , скажи пару слов о том, в чём ты смог разобраться (если такие открытия были) и о том, какие изменения / дополнения и почему ты привнёс в заготовленный нами шаблон."
      ],
      "metadata": {
        "collapsed": false,
        "pycharm": {
          "name": "#%% md\n"
        },
        "id": "zo3qR0vWmePT"
      }
    }
  ],
  "metadata": {
    "kernelspec": {
      "display_name": "Python 3",
      "language": "python",
      "name": "python3"
    },
    "language_info": {
      "codemirror_mode": {
        "name": "ipython",
        "version": 2
      },
      "file_extension": ".py",
      "mimetype": "text/x-python",
      "name": "python",
      "nbconvert_exporter": "python",
      "pygments_lexer": "ipython2",
      "version": "2.7.6"
    },
    "colab": {
      "provenance": []
    }
  },
  "nbformat": 4,
  "nbformat_minor": 0
}